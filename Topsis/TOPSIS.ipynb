{
 "cells": [
  {
   "cell_type": "code",
   "execution_count": 1,
   "id": "26f3ef18",
   "metadata": {},
   "outputs": [],
   "source": [
    "dataset = [['A','4','128','6.5','3500','15000'],['B','6','64','6.4','3800','16000'],['C','6','128','6.8','4200','19000'],['D','8','256','7','5000','25000'],['E','3','64','6.2','4000','14000']]"
   ]
  },
  {
   "cell_type": "code",
   "execution_count": 2,
   "id": "63dd3611",
   "metadata": {},
   "outputs": [
    {
     "data": {
      "text/plain": [
       "[['A', '4', '128', '6.5', '3500', '15000'],\n",
       " ['B', '6', '64', '6.4', '3800', '16000'],\n",
       " ['C', '6', '128', '6.8', '4200', '19000'],\n",
       " ['D', '8', '256', '7', '5000', '25000'],\n",
       " ['E', '3', '64', '6.2', '4000', '14000']]"
      ]
     },
     "execution_count": 2,
     "metadata": {},
     "output_type": "execute_result"
    }
   ],
   "source": [
    "dataset"
   ]
  },
  {
   "cell_type": "code",
   "execution_count": 26,
   "id": "e62aa317",
   "metadata": {},
   "outputs": [],
   "source": [
    "def Normalize(dataset,ncol,weights):\n",
    "    for i in range(1,ncol):\n",
    "        temp=0\n",
    "        for j in range(len(dataset)):\n",
    "            temp = temp+float(dataset[j][i])**2\n",
    "        temp = temp**0.5\n",
    "        #Weighted Normalisation a element\n",
    "        for j in range(len(dataset)):\n",
    "            dataset[j][i] = (float(dataset[j][i])/temp)*weights[i-1]\n",
    "    print(dataset)"
   ]
  },
  {
   "cell_type": "code",
   "execution_count": 4,
   "id": "e7dbdb59",
   "metadata": {},
   "outputs": [
    {
     "data": {
      "text/plain": [
       "5"
      ]
     },
     "execution_count": 4,
     "metadata": {},
     "output_type": "execute_result"
    }
   ],
   "source": [
    "len(dataset)"
   ]
  },
  {
   "cell_type": "code",
   "execution_count": 28,
   "id": "62f63c58",
   "metadata": {},
   "outputs": [],
   "source": [
    "weights = [1,1,1,1,1]"
   ]
  },
  {
   "cell_type": "code",
   "execution_count": 30,
   "id": "632961ba",
   "metadata": {},
   "outputs": [
    {
     "name": "stdout",
     "output_type": "stream",
     "text": [
      "[['A', 0.31524416249564025, 0.3922322702763681, 0.44136063142432147, 0.3788935144919165, 0.36782829532357814], ['B', 0.47286624374346037, 0.19611613513818404, 0.4345704678639473, 0.41137010144836644, 0.39235018167848335], ['C', 0.47286624374346037, 0.3922322702763681, 0.46173112210544404, 0.4546722173902998, 0.46591584074319903], ['D', 0.6304883249912805, 0.7844645405527362, 0.47531144922619245, 0.5412764492741664, 0.6130471588726303], ['E', 0.23643312187173018, 0.19611613513818404, 0.4209901407431989, 0.4330211594193331, 0.3433064089686729]]\n"
     ]
    }
   ],
   "source": [
    "Normalize(dataset,6,weights)"
   ]
  },
  {
   "cell_type": "code",
   "execution_count": 15,
   "id": "93b137fa",
   "metadata": {},
   "outputs": [
    {
     "data": {
      "text/plain": [
       "str"
      ]
     },
     "execution_count": 15,
     "metadata": {},
     "output_type": "execute_result"
    }
   ],
   "source": [
    "type(dataset[2][3])"
   ]
  },
  {
   "cell_type": "markdown",
   "id": "8e9c3caa",
   "metadata": {},
   "source": [
    "***Calculating ideal best and ideal worst and euclidean distance for each row from ideal worst and ideal best value.\n",
    "Now Here we need to see the impact i.e. is it '+' or '-' impact. if '+' impact ideal best for a column is the maximum\n",
    "value in that column & vice versa***"
   ]
  },
  {
   "cell_type": "code",
   "execution_count": 115,
   "id": "903a71fe",
   "metadata": {},
   "outputs": [],
   "source": [
    "def cal_values(dataset, ncol, impact):\n",
    "    p_sln = []\n",
    "    n_sln = []\n",
    "    for i in range(1,ncol):\n",
    "        p = -1000000\n",
    "        q = 10000000\n",
    "        for j in range(len(dataset)):\n",
    "            if(dataset[j][i]>p):\n",
    "                p = dataset[j][i]\n",
    "            if(dataset[j][i]<q):\n",
    "                q = dataset[j][i]\n",
    "        if(impact[i-1]=='-'):\n",
    "            p_sln.append(q)\n",
    "            n_sln.append(p)\n",
    "        else:\n",
    "            p_sln.append(p)\n",
    "            n_sln.append(q)\n",
    "    return p_sln,n_sln"
   ]
  },
  {
   "cell_type": "code",
   "execution_count": 116,
   "id": "c6055e3f",
   "metadata": {},
   "outputs": [],
   "source": [
    "impact = ['+','+','+','+','-']"
   ]
  },
  {
   "cell_type": "code",
   "execution_count": 117,
   "id": "d782ae70",
   "metadata": {},
   "outputs": [],
   "source": [
    "p_sln,n_sln = cal_values(dataset,6,impact)"
   ]
  },
  {
   "cell_type": "code",
   "execution_count": 118,
   "id": "836c24dc",
   "metadata": {},
   "outputs": [
    {
     "data": {
      "text/plain": [
       "[0.6304883249912805,\n",
       " 0.7844645405527362,\n",
       " 0.47531144922619245,\n",
       " 0.5412764492741664,\n",
       " 0.3433064089686729]"
      ]
     },
     "execution_count": 118,
     "metadata": {},
     "output_type": "execute_result"
    }
   ],
   "source": [
    "p_sln"
   ]
  },
  {
   "cell_type": "code",
   "execution_count": 119,
   "id": "6ec73771",
   "metadata": {},
   "outputs": [
    {
     "data": {
      "text/plain": [
       "[0.23643312187173018,\n",
       " 0.19611613513818404,\n",
       " 0.4209901407431989,\n",
       " 0.3788935144919165,\n",
       " 0.6130471588726303]"
      ]
     },
     "execution_count": 119,
     "metadata": {},
     "output_type": "execute_result"
    }
   ],
   "source": [
    "n_sln"
   ]
  },
  {
   "cell_type": "code",
   "execution_count": 120,
   "id": "30583c8b",
   "metadata": {},
   "outputs": [],
   "source": [
    "score = []\n",
    "pp = []\n",
    "nn = []"
   ]
  },
  {
   "cell_type": "code",
   "execution_count": 121,
   "id": "d42c5178",
   "metadata": {},
   "outputs": [],
   "source": [
    "#calculating distance and topsis score for each row"
   ]
  },
  {
   "cell_type": "code",
   "execution_count": 122,
   "id": "524437a8",
   "metadata": {},
   "outputs": [],
   "source": [
    "for i in range(len(dataset)):\n",
    "    temp_p,temp_n = 0,0\n",
    "    for j in range(1,6):\n",
    "        temp_p = temp_p + (p_sln[j-1]-dataset[i][j])**2\n",
    "        temp_n = temp_n + (n_sln[j-1]-dataset[i][j])**2\n",
    "    temp_p,temp_n = temp_p**0.5,temp_n**0.5\n",
    "    score.append(temp_n/(temp_p+temp_n))\n",
    "    nn.append(temp_n)\n",
    "    pp.append(temp_p)"
   ]
  },
  {
   "cell_type": "code",
   "execution_count": 123,
   "id": "faff5100",
   "metadata": {},
   "outputs": [
    {
     "data": {
      "text/plain": [
       "[0.3794770972766953,\n",
       " 0.3419634657283085,\n",
       " 0.4390782595782291,\n",
       " 0.7297913260401544,\n",
       " 0.2769119656311231]"
      ]
     },
     "execution_count": 123,
     "metadata": {},
     "output_type": "execute_result"
    }
   ],
   "source": [
    "score"
   ]
  },
  {
   "cell_type": "code",
   "execution_count": 124,
   "id": "bbe85abc",
   "metadata": {},
   "outputs": [
    {
     "data": {
      "text/plain": [
       "[0.32437627304820005,\n",
       " 0.3253412529109898,\n",
       " 0.35130047499167294,\n",
       " 0.7285275364207157,\n",
       " 0.2751179276312937]"
      ]
     },
     "execution_count": 124,
     "metadata": {},
     "output_type": "execute_result"
    }
   ],
   "source": [
    "nn"
   ]
  },
  {
   "cell_type": "code",
   "execution_count": 125,
   "id": "d0202fde",
   "metadata": {},
   "outputs": [
    {
     "data": {
      "text/plain": [
       "[0.5304217513281734,\n",
       " 0.626050593051511,\n",
       " 0.44878576778683776,\n",
       " 0.26974074990395736,\n",
       " 0.7184033418604724]"
      ]
     },
     "execution_count": 125,
     "metadata": {},
     "output_type": "execute_result"
    }
   ],
   "source": [
    "pp"
   ]
  },
  {
   "cell_type": "code",
   "execution_count": 126,
   "id": "bde26f37",
   "metadata": {},
   "outputs": [],
   "source": [
    "#Appending new columns in dataset"
   ]
  },
  {
   "cell_type": "code",
   "execution_count": 127,
   "id": "edd10907",
   "metadata": {},
   "outputs": [],
   "source": [
    "import pandas as pd"
   ]
  },
  {
   "cell_type": "code",
   "execution_count": null,
   "id": "e5e76963",
   "metadata": {},
   "outputs": [],
   "source": [
    "df = pd.DataFrame({'Mobile Phone':dataset[1]})"
   ]
  },
  {
   "cell_type": "code",
   "execution_count": 128,
   "id": "6a37494b",
   "metadata": {},
   "outputs": [
    {
     "data": {
      "text/plain": [
       "['B',\n",
       " 0.47286624374346037,\n",
       " 0.19611613513818404,\n",
       " 0.4345704678639473,\n",
       " 0.41137010144836644,\n",
       " 0.39235018167848335]"
      ]
     },
     "execution_count": 128,
     "metadata": {},
     "output_type": "execute_result"
    }
   ],
   "source": [
    "dataset[:][1]"
   ]
  },
  {
   "cell_type": "code",
   "execution_count": null,
   "id": "10bbcea2",
   "metadata": {},
   "outputs": [],
   "source": []
  }
 ],
 "metadata": {
  "kernelspec": {
   "display_name": "Python 3 (ipykernel)",
   "language": "python",
   "name": "python3"
  },
  "language_info": {
   "codemirror_mode": {
    "name": "ipython",
    "version": 3
   },
   "file_extension": ".py",
   "mimetype": "text/x-python",
   "name": "python",
   "nbconvert_exporter": "python",
   "pygments_lexer": "ipython3",
   "version": "3.9.13"
  }
 },
 "nbformat": 4,
 "nbformat_minor": 5
}
