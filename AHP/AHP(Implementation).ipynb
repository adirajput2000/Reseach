{
 "cells": [
  {
   "cell_type": "markdown",
   "id": "8d882836",
   "metadata": {},
   "source": [
    "# AHP (Analytical Hierarchy Process)"
   ]
  },
  {
   "cell_type": "markdown",
   "id": "256271ab",
   "metadata": {},
   "source": [
    "Let's imagine you want to travel to Europe on holiday and you plan on visiting a few interesting cities. You have\n",
    "few cities in mind - Madrid, Hamburg, and Paris, but your budget only allows you to visit one of those."
   ]
  },
  {
   "cell_type": "code",
   "execution_count": 1,
   "id": "cc50f15f",
   "metadata": {},
   "outputs": [],
   "source": [
    "#importing libraries"
   ]
  },
  {
   "cell_type": "code",
   "execution_count": 2,
   "id": "9718148e",
   "metadata": {},
   "outputs": [],
   "source": [
    "import numpy as np\n",
    "import pandas as pd"
   ]
  },
  {
   "cell_type": "code",
   "execution_count": 7,
   "id": "ae0f40c1",
   "metadata": {},
   "outputs": [],
   "source": [
    "option = ['Climate','Sightseeing','Enviroment']"
   ]
  },
  {
   "cell_type": "code",
   "execution_count": 18,
   "id": "2eca4b50",
   "metadata": {},
   "outputs": [],
   "source": [
    "def Pairwise_matrix(n):\n",
    "    A = np.ones([n,n])\n",
    "    for i in range(0,n):\n",
    "        for j in range(0,n):\n",
    "            if i<j:\n",
    "                aij = input('How important is option{} over option{}?:'.format(i,j))\n",
    "                A[i,j] = float(aij)\n",
    "                A[j,i] = 1/float(aij)\n",
    "    eig_val = np.linalg.eig(A)[0].max()\n",
    "    eig_vec = np.linalg.eig(A)[1][:,0]\n",
    "    p = eig_vec/eig_vec.sum()\n",
    "    return p,eig_val"
   ]
  },
  {
   "cell_type": "code",
   "execution_count": 21,
   "id": "c8a5b524",
   "metadata": {},
   "outputs": [
    {
     "name": "stdout",
     "output_type": "stream",
     "text": [
      "How important is option0 over option1?:0.5\n",
      "How important is option0 over option2?:0.25\n",
      "How important is option1 over option2?:0.5\n",
      "How important is option0 over option1?:0.5\n",
      "How important is option0 over option2?:0.25\n",
      "How important is option1 over option2?:0.5\n",
      "How important is option0 over option1?:0.5\n",
      "How important is option0 over option2?:0.25\n",
      "How important is option1 over option2?:0.5\n",
      "How important is option0 over option1?:0.5\n",
      "How important is option0 over option2?:0.25\n",
      "How important is option1 over option2?:0.5\n"
     ]
    }
   ],
   "source": [
    "pr_c = Pairwise_matrix(3)[0]\n",
    "pr_c0 = Pairwise_matrix(3)[0]\n",
    "pr_c1 = Pairwise_matrix(3)[0]\n",
    "pr_c2 = Pairwise_matrix(3)[0]"
   ]
  },
  {
   "cell_type": "code",
   "execution_count": 22,
   "id": "d08b6ca2",
   "metadata": {},
   "outputs": [],
   "source": [
    "r = pr_c0 * pr_c[0] + pr_c1 * pr_c[1] + pr_c2 * pr_c[2]"
   ]
  },
  {
   "cell_type": "code",
   "execution_count": 23,
   "id": "58c0250f",
   "metadata": {},
   "outputs": [
    {
     "name": "stdout",
     "output_type": "stream",
     "text": [
      "[0.14285714 0.28571429 0.57142857]\n"
     ]
    }
   ],
   "source": [
    "print(r)"
   ]
  }
 ],
 "metadata": {
  "kernelspec": {
   "display_name": "Python 3 (ipykernel)",
   "language": "python",
   "name": "python3"
  },
  "language_info": {
   "codemirror_mode": {
    "name": "ipython",
    "version": 3
   },
   "file_extension": ".py",
   "mimetype": "text/x-python",
   "name": "python",
   "nbconvert_exporter": "python",
   "pygments_lexer": "ipython3",
   "version": "3.9.13"
  }
 },
 "nbformat": 4,
 "nbformat_minor": 5
}
